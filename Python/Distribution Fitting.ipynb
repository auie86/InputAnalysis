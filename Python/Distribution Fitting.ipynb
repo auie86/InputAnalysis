{
 "cells": [
  {
   "cell_type": "markdown",
   "metadata": {},
   "source": [
    "# Distribution Fitting (Univariate)\n",
    "\n",
    "Much material from: https://pythonhealthcare.org/2018/05/03/81-distribution-fitting-to-data/\n",
    "\n",
    "2021-02-12 - Jeff Smith"
   ]
  },
  {
   "cell_type": "code",
   "execution_count": null,
   "metadata": {},
   "outputs": [],
   "source": [
    "import pandas as pd\n",
    "import numpy as np\n",
    "import scipy\n",
    "import scipy.stats\n",
    "import matplotlib.pyplot as plt\n",
    "%matplotlib inline"
   ]
  },
  {
   "cell_type": "code",
   "execution_count": null,
   "metadata": {},
   "outputs": [],
   "source": [
    "df = pd.read_csv(\"../data/obs.csv\")\n",
    "df.head()"
   ]
  },
  {
   "cell_type": "code",
   "execution_count": null,
   "metadata": {},
   "outputs": [],
   "source": [
    "df.Obs.describe()"
   ]
  },
  {
   "cell_type": "code",
   "execution_count": null,
   "metadata": {},
   "outputs": [],
   "source": [
    "obs = df.Obs.to_numpy()\n",
    "plt.hist(obs);"
   ]
  },
  {
   "cell_type": "code",
   "execution_count": null,
   "metadata": {},
   "outputs": [],
   "source": [
    "# Set list of distributions to test\n",
    "# See https://docs.scipy.org/doc/scipy/reference/stats.html for more\n",
    "dist_names = ['expon', 'gamma', 'lognorm', 'norm', 'triang', 'uniform']\n"
   ]
  },
  {
   "cell_type": "markdown",
   "metadata": {},
   "source": [
    "## Triangular (Continuous)"
   ]
  },
  {
   "cell_type": "code",
   "execution_count": null,
   "metadata": {},
   "outputs": [],
   "source": [
    "dist_name = 'triang'\n",
    "dist = getattr(scipy.stats, dist_name)\n",
    "param = dist.fit(obs)\n",
    "param\n",
    "# param = [shape, location, scale]"
   ]
  },
  {
   "cell_type": "code",
   "execution_count": null,
   "metadata": {},
   "outputs": [],
   "source": [
    "# generate some observations from the fit\n",
    "plt.hist(dist.rvs(param[0], param[1], param[2], size=10000), bins=25);"
   ]
  },
  {
   "cell_type": "code",
   "execution_count": null,
   "metadata": {},
   "outputs": [],
   "source": [
    "# If we want the min, most likely, max (a, b, c) parameters\n",
    "a = param[1]\n",
    "b = param[1] + param[0]*param[2]\n",
    "c = param[1] + param[2]\n",
    "a, b, c"
   ]
  },
  {
   "cell_type": "code",
   "execution_count": null,
   "metadata": {
    "scrolled": true
   },
   "outputs": [],
   "source": [
    "# if we want to go backwards from a, b, c (we could use\n",
    "# this to generate observations from a triangular dist with\n",
    "# the given abc values).\n",
    "\n",
    "# For Example\n",
    "a = 127.25\n",
    "b = 224.1\n",
    "c = 240.67\n",
    "\n",
    "loc = a\n",
    "scale = c-a\n",
    "shape = (b-a)/(c-a)\n",
    "plt.hist(dist.rvs(shape, loc, scale, size=10000), bins=25);"
   ]
  },
  {
   "cell_type": "markdown",
   "metadata": {},
   "source": [
    "## Lognormal\n",
    "\n",
    "Some help at https://stackoverflow.com/questions/18534562/scipy-lognormal-fitting and https://code-examples.net/en/q/857af1"
   ]
  },
  {
   "cell_type": "code",
   "execution_count": null,
   "metadata": {},
   "outputs": [],
   "source": [
    "dist_name = 'lognorm'\n",
    "dist = getattr(scipy.stats, dist_name)\n",
    "param = dist.fit(obs)\n",
    "param\n",
    "# param = [shape, location, scale]"
   ]
  },
  {
   "cell_type": "code",
   "execution_count": null,
   "metadata": {},
   "outputs": [],
   "source": [
    "# generate some observations from the fit\n",
    "plt.hist(dist.rvs(param[0], param[1], param[2], size=10000), bins=25);"
   ]
  },
  {
   "cell_type": "code",
   "execution_count": null,
   "metadata": {},
   "outputs": [],
   "source": [
    "# shape - sigma_x\n",
    "# loc - shift\n",
    "# scale - exp(mu_x)\n",
    "\n",
    "# Example:\n",
    "mu_y    = 3.299\n",
    "sigma_y = 0.278\n",
    "mu_x = np.log(np.square(mu_y)/np.sqrt(np.square(mu_y) + np.square(sigma_y)))\n",
    "sigma_x = np.sqrt(np.log(np.square(sigma_y)/np.square(mu_y) + 1))\n",
    "print(\"Y: ({:}, {:}); X: ({:.4f}, {:.4f})\".format(mu_y, sigma_y, mu_x, sigma_x))\n",
    "\n",
    "# Sampling\n",
    "plt.hist(dist.rvs(sigma_x, 0, np.exp(mu_x), size=10000), bins=25);"
   ]
  },
  {
   "cell_type": "markdown",
   "metadata": {},
   "source": [
    "## Normal"
   ]
  },
  {
   "cell_type": "code",
   "execution_count": null,
   "metadata": {},
   "outputs": [],
   "source": [
    "dist_name = 'norm'\n",
    "dist = getattr(scipy.stats, dist_name)\n",
    "param = dist.fit(obs)\n",
    "param\n",
    "# param = [location, scale]"
   ]
  },
  {
   "cell_type": "code",
   "execution_count": null,
   "metadata": {},
   "outputs": [],
   "source": [
    "# generate some observations from the fit\n",
    "plt.hist(dist.rvs(param[0], param[1], size=10000), bins=25);"
   ]
  },
  {
   "cell_type": "code",
   "execution_count": null,
   "metadata": {},
   "outputs": [],
   "source": [
    "# Generating with a given mu and sigma\n",
    "mu = 125\n",
    "sigma = 25\n",
    "plt.hist(dist.rvs(mu, sigma, size=10000), bins=25);"
   ]
  },
  {
   "cell_type": "code",
   "execution_count": null,
   "metadata": {},
   "outputs": [],
   "source": []
  }
 ],
 "metadata": {
  "kernelspec": {
   "display_name": "Python 3",
   "language": "python",
   "name": "python3"
  },
  "language_info": {
   "codemirror_mode": {
    "name": "ipython",
    "version": 3
   },
   "file_extension": ".py",
   "mimetype": "text/x-python",
   "name": "python",
   "nbconvert_exporter": "python",
   "pygments_lexer": "ipython3",
   "version": "3.8.5"
  }
 },
 "nbformat": 4,
 "nbformat_minor": 5
}
