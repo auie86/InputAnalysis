{
 "cells": [
  {
   "cell_type": "markdown",
   "id": "e9f24bfd",
   "metadata": {},
   "source": [
    "# Distribution Fitting (Univariate)\n",
    "\n",
    "Much material from: https://pythonhealthcare.org/2018/05/03/81-distribution-fitting-to-data/\n",
    "\n",
    "2021-02-12 - Jeff Smith"
   ]
  },
  {
   "cell_type": "code",
   "execution_count": 2,
   "id": "e066384d",
   "metadata": {},
   "outputs": [],
   "source": [
    "import pandas as pd\n",
    "import numpy as np\n",
    "import scipy\n",
    "import scipy.stats\n",
    "import matplotlib.pyplot as plt\n",
    "%matplotlib inline"
   ]
  },
  {
   "cell_type": "code",
   "execution_count": 15,
   "id": "6742953b",
   "metadata": {},
   "outputs": [
    {
     "data": {
      "text/html": [
       "<div>\n",
       "<style scoped>\n",
       "    .dataframe tbody tr th:only-of-type {\n",
       "        vertical-align: middle;\n",
       "    }\n",
       "\n",
       "    .dataframe tbody tr th {\n",
       "        vertical-align: top;\n",
       "    }\n",
       "\n",
       "    .dataframe thead th {\n",
       "        text-align: right;\n",
       "    }\n",
       "</style>\n",
       "<table border=\"1\" class=\"dataframe\">\n",
       "  <thead>\n",
       "    <tr style=\"text-align: right;\">\n",
       "      <th></th>\n",
       "      <th>Obs</th>\n",
       "    </tr>\n",
       "  </thead>\n",
       "  <tbody>\n",
       "    <tr>\n",
       "      <th>0</th>\n",
       "      <td>43.376101</td>\n",
       "    </tr>\n",
       "    <tr>\n",
       "      <th>1</th>\n",
       "      <td>39.097614</td>\n",
       "    </tr>\n",
       "    <tr>\n",
       "      <th>2</th>\n",
       "      <td>42.052368</td>\n",
       "    </tr>\n",
       "    <tr>\n",
       "      <th>3</th>\n",
       "      <td>32.778917</td>\n",
       "    </tr>\n",
       "    <tr>\n",
       "      <th>4</th>\n",
       "      <td>44.564735</td>\n",
       "    </tr>\n",
       "  </tbody>\n",
       "</table>\n",
       "</div>"
      ],
      "text/plain": [
       "         Obs\n",
       "0  43.376101\n",
       "1  39.097614\n",
       "2  42.052368\n",
       "3  32.778917\n",
       "4  44.564735"
      ]
     },
     "execution_count": 15,
     "metadata": {},
     "output_type": "execute_result"
    }
   ],
   "source": [
    "df = pd.read_csv(\"../data/order_time.csv\")\n",
    "df.head()"
   ]
  },
  {
   "cell_type": "code",
   "execution_count": 21,
   "id": "406915be",
   "metadata": {},
   "outputs": [
    {
     "data": {
      "text/plain": [
       "count    2086.000000\n",
       "mean       40.068428\n",
       "std         4.144343\n",
       "min        30.336490\n",
       "25%        37.164292\n",
       "50%        40.070459\n",
       "75%        43.005460\n",
       "max        49.656378\n",
       "Name: Obs, dtype: float64"
      ]
     },
     "execution_count": 21,
     "metadata": {},
     "output_type": "execute_result"
    }
   ],
   "source": [
    "df.Obs.describe()"
   ]
  },
  {
   "cell_type": "code",
   "execution_count": 20,
   "id": "5c25ca21",
   "metadata": {},
   "outputs": [
    {
     "data": {
      "image/png": "[encoded data removed]",
      "text/plain": [
       "<Figure size 640x480 with 1 Axes>"
      ]
     },
     "metadata": {},
     "output_type": "display_data"
    }
   ],
   "source": [
    "obs = df.Obs.to_numpy()\n",
    "plt.hist(obs);"
   ]
  },
  {
   "cell_type": "code",
   "execution_count": 18,
   "id": "78167a88",
   "metadata": {},
   "outputs": [],
   "source": [
    "# Set list of distributions to test\n",
    "# See https://docs.scipy.org/doc/scipy/reference/stats.html for more\n",
    "dist_names = ['expon', 'gamma', 'lognorm', 'norm', 'triang', 'uniform']\n"
   ]
  },
  {
   "cell_type": "markdown",
   "id": "92739864",
   "metadata": {},
   "source": [
    "## Triangular (Continuous)"
   ]
  },
  {
   "cell_type": "code",
   "execution_count": 22,
   "id": "b3508c25",
   "metadata": {},
   "outputs": [
    {
     "data": {
      "text/plain": [
       "(0.5087470316451992, 30.010425287007777, 19.944246341613177)"
      ]
     },
     "execution_count": 22,
     "metadata": {},
     "output_type": "execute_result"
    }
   ],
   "source": [
    "dist_name = 'triang'\n",
    "dist = getattr(scipy.stats, dist_name)\n",
    "param = dist.fit(obs)\n",
    "param\n",
    "# param = [shape, location, scale]"
   ]
  },
  {
   "cell_type": "code",
   "execution_count": 23,
   "id": "5ed53cb5",
   "metadata": {},
   "outputs": [
    {
     "data": {
      "image/png": "[encoded data removed]",
      "text/plain": [
       "<Figure size 640x480 with 1 Axes>"
      ]
     },
     "metadata": {},
     "output_type": "display_data"
    }
   ],
   "source": [
    "# generate some observations from the fit\n",
    "plt.hist(dist.rvs(param[0], param[1], param[2], size=10000), bins=25);"
   ]
  },
  {
   "cell_type": "code",
   "execution_count": 24,
   "id": "97e545bd",
   "metadata": {},
   "outputs": [
    {
     "data": {
      "text/plain": [
       "(30.010425287007777, 40.1570014117041, 49.95467162862096)"
      ]
     },
     "execution_count": 24,
     "metadata": {},
     "output_type": "execute_result"
    }
   ],
   "source": [
    "# If we want the min, most likely, max (a, b, c) parameters\n",
    "a = param[1]\n",
    "b = param[1] + param[0]*param[2]\n",
    "c = param[1] + param[2]\n",
    "a, b, c"
   ]
  },
  {
   "cell_type": "code",
   "execution_count": null,
   "id": "6bb3439a",
   "metadata": {
    "scrolled": true
   },
   "outputs": [],
   "source": [
    "# if we want to go backwards from a, b, c (we could use\n",
    "# this to generate observations from a triangular dist with\n",
    "# the given abc values).\n",
    "\n",
    "# For Example\n",
    "a = 127.25\n",
    "b = 224.1\n",
    "c = 240.67\n",
    "\n",
    "loc = a\n",
    "scale = c-a\n",
    "shape = (b-a)/(c-a)\n",
    "plt.hist(dist.rvs(shape, loc, scale, size=10000), bins=25);"
   ]
  },
  {
   "cell_type": "markdown",
   "id": "78664a62",
   "metadata": {},
   "source": [
    "## Lognormal\n",
    "\n",
    "Some help at https://stackoverflow.com/questions/18534562/scipy-lognormal-fitting and https://code-examples.net/en/q/857af1"
   ]
  },
  {
   "cell_type": "code",
   "execution_count": null,
   "id": "9f9bb735",
   "metadata": {},
   "outputs": [],
   "source": [
    "dist_name = 'lognorm'\n",
    "dist = getattr(scipy.stats, dist_name)\n",
    "param = dist.fit(obs)\n",
    "param\n",
    "# param = [shape, location, scale]"
   ]
  },
  {
   "cell_type": "code",
   "execution_count": null,
   "id": "83b2093e",
   "metadata": {},
   "outputs": [],
   "source": [
    "# generate some observations from the fit\n",
    "plt.hist(dist.rvs(param[0], param[1], param[2], size=10000), bins=25);"
   ]
  },
  {
   "cell_type": "code",
   "execution_count": null,
   "id": "e48e34ac",
   "metadata": {},
   "outputs": [],
   "source": [
    "# shape - sigma_x\n",
    "# loc - shift\n",
    "# scale - exp(mu_x)\n",
    "\n",
    "# Example:\n",
    "mu_y    = 3.299\n",
    "sigma_y = 0.278\n",
    "mu_x = np.log(np.square(mu_y)/np.sqrt(np.square(mu_y) + np.square(sigma_y)))\n",
    "sigma_x = np.sqrt(np.log(np.square(sigma_y)/np.square(mu_y) + 1))\n",
    "print(\"Y: ({:}, {:}); X: ({:.4f}, {:.4f})\".format(mu_y, sigma_y, mu_x, sigma_x))\n",
    "\n",
    "# Sampling\n",
    "plt.hist(dist.rvs(sigma_x, 0, np.exp(mu_x), size=10000), bins=25);"
   ]
  },
  {
   "cell_type": "markdown",
   "id": "371940c4",
   "metadata": {},
   "source": [
    "## Normal"
   ]
  },
  {
   "cell_type": "code",
   "execution_count": null,
   "id": "3f5ab434",
   "metadata": {},
   "outputs": [],
   "source": [
    "dist_name = 'norm'\n",
    "dist = getattr(scipy.stats, dist_name)\n",
    "param = dist.fit(obs)\n",
    "param\n",
    "# param = [location, scale]"
   ]
  },
  {
   "cell_type": "code",
   "execution_count": null,
   "id": "d948d6a0",
   "metadata": {},
   "outputs": [],
   "source": [
    "# generate some observations from the fit\n",
    "plt.hist(dist.rvs(param[0], param[1], size=10000), bins=25);"
   ]
  },
  {
   "cell_type": "code",
   "execution_count": null,
   "id": "86454a44",
   "metadata": {},
   "outputs": [],
   "source": [
    "# Generating with a given mu and sigma\n",
    "mu = 125\n",
    "sigma = 25\n",
    "plt.hist(dist.rvs(mu, sigma, size=10000), bins=25);"
   ]
  },
  {
   "cell_type": "code",
   "execution_count": null,
   "id": "e40a9022",
   "metadata": {},
   "outputs": [],
   "source": []
  }
 ],
 "metadata": {
  "kernelspec": {
   "display_name": "Python 3 (ipykernel)",
   "language": "python",
   "name": "python3"
  },
  "language_info": {
   "codemirror_mode": {
    "name": "ipython",
    "version": 3
   },
   "file_extension": ".py",
   "mimetype": "text/x-python",
   "name": "python",
   "nbconvert_exporter": "python",
   "pygments_lexer": "ipython3",
   "version": "3.11.5"
  }
 },
 "nbformat": 4,
 "nbformat_minor": 5
}
